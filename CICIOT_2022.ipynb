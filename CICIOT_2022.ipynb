{
 "cells": [
  {
   "cell_type": "code",
   "execution_count": 1,
   "id": "10d43e1b",
   "metadata": {},
   "outputs": [],
   "source": [
    "import pandas as pd\n",
    "import numpy as np\n",
    "import matplotlib.pyplot as plt\n",
    "from sklearn.model_selection import train_test_split\n",
    "from sklearn.svm import SVC\n",
    "from sklearn.metrics import accuracy_score, classification_report , confusion_matrix\n"
   ]
  },
  {
   "cell_type": "code",
   "execution_count": 2,
   "id": "02cc5798",
   "metadata": {},
   "outputs": [],
   "source": [
    "parquet_file = 'ciciot2022.parquet'\n",
    "df = pd.read_parquet(parquet_file)"
   ]
  },
  {
   "cell_type": "code",
   "execution_count": 3,
   "id": "63c9fadf",
   "metadata": {},
   "outputs": [
    {
     "data": {
      "text/html": [
       "<div>\n",
       "<style scoped>\n",
       "    .dataframe tbody tr th:only-of-type {\n",
       "        vertical-align: middle;\n",
       "    }\n",
       "\n",
       "    .dataframe tbody tr th {\n",
       "        vertical-align: top;\n",
       "    }\n",
       "\n",
       "    .dataframe thead th {\n",
       "        text-align: right;\n",
       "    }\n",
       "</style>\n",
       "<table border=\"1\" class=\"dataframe\">\n",
       "  <thead>\n",
       "    <tr style=\"text-align: right;\">\n",
       "      <th></th>\n",
       "      <th>L4_tcp</th>\n",
       "      <th>L4_udp</th>\n",
       "      <th>L7_http</th>\n",
       "      <th>L7_https</th>\n",
       "      <th>port_class_src</th>\n",
       "      <th>port_class_dst</th>\n",
       "      <th>pck_size</th>\n",
       "      <th>ip_dst_new</th>\n",
       "      <th>ethernet_frame_size</th>\n",
       "      <th>ttl</th>\n",
       "      <th>...</th>\n",
       "      <th>q3_e</th>\n",
       "      <th>q1_e</th>\n",
       "      <th>iqr_e</th>\n",
       "      <th>epoch_timestamp</th>\n",
       "      <th>inter_arrival_time</th>\n",
       "      <th>time_since_previously_displayed_frame</th>\n",
       "      <th>global_category</th>\n",
       "      <th>device</th>\n",
       "      <th>interaction_type</th>\n",
       "      <th>command</th>\n",
       "    </tr>\n",
       "  </thead>\n",
       "  <tbody>\n",
       "    <tr>\n",
       "      <th>0</th>\n",
       "      <td>True</td>\n",
       "      <td>False</td>\n",
       "      <td>False</td>\n",
       "      <td>False</td>\n",
       "      <td>2</td>\n",
       "      <td>3</td>\n",
       "      <td>442</td>\n",
       "      <td>3232270593</td>\n",
       "      <td>476</td>\n",
       "      <td>64</td>\n",
       "      <td>...</td>\n",
       "      <td>442.00</td>\n",
       "      <td>442.00</td>\n",
       "      <td>0.00</td>\n",
       "      <td>1634049773</td>\n",
       "      <td>0.000000</td>\n",
       "      <td>0.000000</td>\n",
       "      <td>AUDIO</td>\n",
       "      <td>nestmini</td>\n",
       "      <td>LAN</td>\n",
       "      <td>VOLUMEON</td>\n",
       "    </tr>\n",
       "    <tr>\n",
       "      <th>1</th>\n",
       "      <td>True</td>\n",
       "      <td>False</td>\n",
       "      <td>False</td>\n",
       "      <td>False</td>\n",
       "      <td>3</td>\n",
       "      <td>2</td>\n",
       "      <td>20</td>\n",
       "      <td>3232270754</td>\n",
       "      <td>54</td>\n",
       "      <td>128</td>\n",
       "      <td>...</td>\n",
       "      <td>336.50</td>\n",
       "      <td>125.50</td>\n",
       "      <td>211.00</td>\n",
       "      <td>1634049773</td>\n",
       "      <td>0.048638</td>\n",
       "      <td>0.048638</td>\n",
       "      <td>AUDIO</td>\n",
       "      <td>nestmini</td>\n",
       "      <td>LAN</td>\n",
       "      <td>VOLUMEON</td>\n",
       "    </tr>\n",
       "    <tr>\n",
       "      <th>2</th>\n",
       "      <td>False</td>\n",
       "      <td>False</td>\n",
       "      <td>False</td>\n",
       "      <td>False</td>\n",
       "      <td>0</td>\n",
       "      <td>0</td>\n",
       "      <td>64</td>\n",
       "      <td>3232270593</td>\n",
       "      <td>98</td>\n",
       "      <td>64</td>\n",
       "      <td>...</td>\n",
       "      <td>253.00</td>\n",
       "      <td>42.00</td>\n",
       "      <td>211.00</td>\n",
       "      <td>1634049773</td>\n",
       "      <td>0.386110</td>\n",
       "      <td>0.434748</td>\n",
       "      <td>AUDIO</td>\n",
       "      <td>nestmini</td>\n",
       "      <td>LAN</td>\n",
       "      <td>VOLUMEON</td>\n",
       "    </tr>\n",
       "    <tr>\n",
       "      <th>3</th>\n",
       "      <td>True</td>\n",
       "      <td>False</td>\n",
       "      <td>False</td>\n",
       "      <td>False</td>\n",
       "      <td>2</td>\n",
       "      <td>3</td>\n",
       "      <td>300</td>\n",
       "      <td>3232270593</td>\n",
       "      <td>334</td>\n",
       "      <td>64</td>\n",
       "      <td>...</td>\n",
       "      <td>335.50</td>\n",
       "      <td>53.00</td>\n",
       "      <td>282.50</td>\n",
       "      <td>1634049774</td>\n",
       "      <td>0.458671</td>\n",
       "      <td>0.893419</td>\n",
       "      <td>AUDIO</td>\n",
       "      <td>nestmini</td>\n",
       "      <td>LAN</td>\n",
       "      <td>VOLUMEON</td>\n",
       "    </tr>\n",
       "    <tr>\n",
       "      <th>4</th>\n",
       "      <td>True</td>\n",
       "      <td>False</td>\n",
       "      <td>False</td>\n",
       "      <td>False</td>\n",
       "      <td>3</td>\n",
       "      <td>2</td>\n",
       "      <td>20</td>\n",
       "      <td>3232270754</td>\n",
       "      <td>54</td>\n",
       "      <td>128</td>\n",
       "      <td>...</td>\n",
       "      <td>300.00</td>\n",
       "      <td>20.00</td>\n",
       "      <td>280.00</td>\n",
       "      <td>1634049774</td>\n",
       "      <td>0.051143</td>\n",
       "      <td>0.944562</td>\n",
       "      <td>AUDIO</td>\n",
       "      <td>nestmini</td>\n",
       "      <td>LAN</td>\n",
       "      <td>VOLUMEON</td>\n",
       "    </tr>\n",
       "    <tr>\n",
       "      <th>...</th>\n",
       "      <td>...</td>\n",
       "      <td>...</td>\n",
       "      <td>...</td>\n",
       "      <td>...</td>\n",
       "      <td>...</td>\n",
       "      <td>...</td>\n",
       "      <td>...</td>\n",
       "      <td>...</td>\n",
       "      <td>...</td>\n",
       "      <td>...</td>\n",
       "      <td>...</td>\n",
       "      <td>...</td>\n",
       "      <td>...</td>\n",
       "      <td>...</td>\n",
       "      <td>...</td>\n",
       "      <td>...</td>\n",
       "      <td>...</td>\n",
       "      <td>...</td>\n",
       "      <td>...</td>\n",
       "      <td>...</td>\n",
       "      <td>...</td>\n",
       "    </tr>\n",
       "    <tr>\n",
       "      <th>229501</th>\n",
       "      <td>True</td>\n",
       "      <td>False</td>\n",
       "      <td>False</td>\n",
       "      <td>False</td>\n",
       "      <td>2</td>\n",
       "      <td>2</td>\n",
       "      <td>89</td>\n",
       "      <td>3232270836</td>\n",
       "      <td>123</td>\n",
       "      <td>223</td>\n",
       "      <td>...</td>\n",
       "      <td>157.25</td>\n",
       "      <td>89.00</td>\n",
       "      <td>68.25</td>\n",
       "      <td>1633459940</td>\n",
       "      <td>0.088585</td>\n",
       "      <td>0.088585</td>\n",
       "      <td>HOME AUTOMATION</td>\n",
       "      <td>heimvisionlamp</td>\n",
       "      <td>LOCAL</td>\n",
       "      <td>LIGHTOFF</td>\n",
       "    </tr>\n",
       "    <tr>\n",
       "      <th>229502</th>\n",
       "      <td>True</td>\n",
       "      <td>False</td>\n",
       "      <td>False</td>\n",
       "      <td>False</td>\n",
       "      <td>2</td>\n",
       "      <td>2</td>\n",
       "      <td>20</td>\n",
       "      <td>597822746</td>\n",
       "      <td>54</td>\n",
       "      <td>255</td>\n",
       "      <td>...</td>\n",
       "      <td>134.50</td>\n",
       "      <td>54.50</td>\n",
       "      <td>80.00</td>\n",
       "      <td>1633459940</td>\n",
       "      <td>0.076676</td>\n",
       "      <td>0.165261</td>\n",
       "      <td>HOME AUTOMATION</td>\n",
       "      <td>heimvisionlamp</td>\n",
       "      <td>LOCAL</td>\n",
       "      <td>LIGHTOFF</td>\n",
       "    </tr>\n",
       "    <tr>\n",
       "      <th>229503</th>\n",
       "      <td>False</td>\n",
       "      <td>True</td>\n",
       "      <td>False</td>\n",
       "      <td>False</td>\n",
       "      <td>3</td>\n",
       "      <td>2</td>\n",
       "      <td>180</td>\n",
       "      <td>4294967295</td>\n",
       "      <td>214</td>\n",
       "      <td>255</td>\n",
       "      <td>...</td>\n",
       "      <td>180.00</td>\n",
       "      <td>71.75</td>\n",
       "      <td>108.25</td>\n",
       "      <td>1633459940</td>\n",
       "      <td>0.545729</td>\n",
       "      <td>0.710990</td>\n",
       "      <td>HOME AUTOMATION</td>\n",
       "      <td>heimvisionlamp</td>\n",
       "      <td>LOCAL</td>\n",
       "      <td>LIGHTOFF</td>\n",
       "    </tr>\n",
       "    <tr>\n",
       "      <th>229504</th>\n",
       "      <td>False</td>\n",
       "      <td>True</td>\n",
       "      <td>False</td>\n",
       "      <td>False</td>\n",
       "      <td>3</td>\n",
       "      <td>2</td>\n",
       "      <td>180</td>\n",
       "      <td>4294967295</td>\n",
       "      <td>214</td>\n",
       "      <td>255</td>\n",
       "      <td>...</td>\n",
       "      <td>180.00</td>\n",
       "      <td>89.00</td>\n",
       "      <td>91.00</td>\n",
       "      <td>1633459945</td>\n",
       "      <td>5.005840</td>\n",
       "      <td>5.716830</td>\n",
       "      <td>HOME AUTOMATION</td>\n",
       "      <td>heimvisionlamp</td>\n",
       "      <td>LOCAL</td>\n",
       "      <td>LIGHTOFF</td>\n",
       "    </tr>\n",
       "    <tr>\n",
       "      <th>229505</th>\n",
       "      <td>False</td>\n",
       "      <td>True</td>\n",
       "      <td>False</td>\n",
       "      <td>False</td>\n",
       "      <td>3</td>\n",
       "      <td>2</td>\n",
       "      <td>180</td>\n",
       "      <td>4294967295</td>\n",
       "      <td>214</td>\n",
       "      <td>255</td>\n",
       "      <td>...</td>\n",
       "      <td>180.00</td>\n",
       "      <td>89.00</td>\n",
       "      <td>91.00</td>\n",
       "      <td>1633459950</td>\n",
       "      <td>5.001528</td>\n",
       "      <td>10.718358</td>\n",
       "      <td>HOME AUTOMATION</td>\n",
       "      <td>heimvisionlamp</td>\n",
       "      <td>LOCAL</td>\n",
       "      <td>LIGHTOFF</td>\n",
       "    </tr>\n",
       "  </tbody>\n",
       "</table>\n",
       "<p>229506 rows × 52 columns</p>\n",
       "</div>"
      ],
      "text/plain": [
       "        L4_tcp  L4_udp  L7_http  L7_https  port_class_src  port_class_dst  \\\n",
       "0         True   False    False     False               2               3   \n",
       "1         True   False    False     False               3               2   \n",
       "2        False   False    False     False               0               0   \n",
       "3         True   False    False     False               2               3   \n",
       "4         True   False    False     False               3               2   \n",
       "...        ...     ...      ...       ...             ...             ...   \n",
       "229501    True   False    False     False               2               2   \n",
       "229502    True   False    False     False               2               2   \n",
       "229503   False    True    False     False               3               2   \n",
       "229504   False    True    False     False               3               2   \n",
       "229505   False    True    False     False               3               2   \n",
       "\n",
       "        pck_size  ip_dst_new  ethernet_frame_size  ttl  ...    q3_e    q1_e  \\\n",
       "0            442  3232270593                  476   64  ...  442.00  442.00   \n",
       "1             20  3232270754                   54  128  ...  336.50  125.50   \n",
       "2             64  3232270593                   98   64  ...  253.00   42.00   \n",
       "3            300  3232270593                  334   64  ...  335.50   53.00   \n",
       "4             20  3232270754                   54  128  ...  300.00   20.00   \n",
       "...          ...         ...                  ...  ...  ...     ...     ...   \n",
       "229501        89  3232270836                  123  223  ...  157.25   89.00   \n",
       "229502        20   597822746                   54  255  ...  134.50   54.50   \n",
       "229503       180  4294967295                  214  255  ...  180.00   71.75   \n",
       "229504       180  4294967295                  214  255  ...  180.00   89.00   \n",
       "229505       180  4294967295                  214  255  ...  180.00   89.00   \n",
       "\n",
       "         iqr_e  epoch_timestamp  inter_arrival_time  \\\n",
       "0         0.00       1634049773            0.000000   \n",
       "1       211.00       1634049773            0.048638   \n",
       "2       211.00       1634049773            0.386110   \n",
       "3       282.50       1634049774            0.458671   \n",
       "4       280.00       1634049774            0.051143   \n",
       "...        ...              ...                 ...   \n",
       "229501   68.25       1633459940            0.088585   \n",
       "229502   80.00       1633459940            0.076676   \n",
       "229503  108.25       1633459940            0.545729   \n",
       "229504   91.00       1633459945            5.005840   \n",
       "229505   91.00       1633459950            5.001528   \n",
       "\n",
       "        time_since_previously_displayed_frame  global_category  \\\n",
       "0                                    0.000000            AUDIO   \n",
       "1                                    0.048638            AUDIO   \n",
       "2                                    0.434748            AUDIO   \n",
       "3                                    0.893419            AUDIO   \n",
       "4                                    0.944562            AUDIO   \n",
       "...                                       ...              ...   \n",
       "229501                               0.088585  HOME AUTOMATION   \n",
       "229502                               0.165261  HOME AUTOMATION   \n",
       "229503                               0.710990  HOME AUTOMATION   \n",
       "229504                               5.716830  HOME AUTOMATION   \n",
       "229505                              10.718358  HOME AUTOMATION   \n",
       "\n",
       "                device  interaction_type   command  \n",
       "0             nestmini               LAN  VOLUMEON  \n",
       "1             nestmini               LAN  VOLUMEON  \n",
       "2             nestmini               LAN  VOLUMEON  \n",
       "3             nestmini               LAN  VOLUMEON  \n",
       "4             nestmini               LAN  VOLUMEON  \n",
       "...                ...               ...       ...  \n",
       "229501  heimvisionlamp             LOCAL  LIGHTOFF  \n",
       "229502  heimvisionlamp             LOCAL  LIGHTOFF  \n",
       "229503  heimvisionlamp             LOCAL  LIGHTOFF  \n",
       "229504  heimvisionlamp             LOCAL  LIGHTOFF  \n",
       "229505  heimvisionlamp             LOCAL  LIGHTOFF  \n",
       "\n",
       "[229506 rows x 52 columns]"
      ]
     },
     "execution_count": 3,
     "metadata": {},
     "output_type": "execute_result"
    }
   ],
   "source": [
    "# Convert DataFrame to CSV\n",
    "csv_file = 'ciciot2022.csv'\n",
    "df.to_csv(csv_file, index=False)\n",
    "df = pd.read_csv(csv_file)\n",
    "df\n"
   ]
  },
  {
   "cell_type": "code",
   "execution_count": 4,
   "id": "32e85217",
   "metadata": {},
   "outputs": [
    {
     "data": {
      "text/html": [
       "<div>\n",
       "<style scoped>\n",
       "    .dataframe tbody tr th:only-of-type {\n",
       "        vertical-align: middle;\n",
       "    }\n",
       "\n",
       "    .dataframe tbody tr th {\n",
       "        vertical-align: top;\n",
       "    }\n",
       "\n",
       "    .dataframe thead th {\n",
       "        text-align: right;\n",
       "    }\n",
       "</style>\n",
       "<table border=\"1\" class=\"dataframe\">\n",
       "  <thead>\n",
       "    <tr style=\"text-align: right;\">\n",
       "      <th></th>\n",
       "      <th>L4_tcp</th>\n",
       "      <th>L4_udp</th>\n",
       "      <th>L7_http</th>\n",
       "      <th>L7_https</th>\n",
       "      <th>port_class_src</th>\n",
       "      <th>port_class_dst</th>\n",
       "      <th>pck_size</th>\n",
       "      <th>ip_dst_new</th>\n",
       "      <th>ethernet_frame_size</th>\n",
       "      <th>ttl</th>\n",
       "      <th>...</th>\n",
       "      <th>q3_e</th>\n",
       "      <th>q1_e</th>\n",
       "      <th>iqr_e</th>\n",
       "      <th>epoch_timestamp</th>\n",
       "      <th>inter_arrival_time</th>\n",
       "      <th>time_since_previously_displayed_frame</th>\n",
       "      <th>global_category</th>\n",
       "      <th>device</th>\n",
       "      <th>interaction_type</th>\n",
       "      <th>command</th>\n",
       "    </tr>\n",
       "  </thead>\n",
       "  <tbody>\n",
       "    <tr>\n",
       "      <th>0</th>\n",
       "      <td>True</td>\n",
       "      <td>False</td>\n",
       "      <td>False</td>\n",
       "      <td>False</td>\n",
       "      <td>2</td>\n",
       "      <td>3</td>\n",
       "      <td>442</td>\n",
       "      <td>3232270593</td>\n",
       "      <td>476</td>\n",
       "      <td>64</td>\n",
       "      <td>...</td>\n",
       "      <td>442.0</td>\n",
       "      <td>442.0</td>\n",
       "      <td>0.0</td>\n",
       "      <td>1634049773</td>\n",
       "      <td>0.000000</td>\n",
       "      <td>0.000000</td>\n",
       "      <td>AUDIO</td>\n",
       "      <td>nestmini</td>\n",
       "      <td>LAN</td>\n",
       "      <td>VOLUMEON</td>\n",
       "    </tr>\n",
       "    <tr>\n",
       "      <th>1</th>\n",
       "      <td>True</td>\n",
       "      <td>False</td>\n",
       "      <td>False</td>\n",
       "      <td>False</td>\n",
       "      <td>3</td>\n",
       "      <td>2</td>\n",
       "      <td>20</td>\n",
       "      <td>3232270754</td>\n",
       "      <td>54</td>\n",
       "      <td>128</td>\n",
       "      <td>...</td>\n",
       "      <td>336.5</td>\n",
       "      <td>125.5</td>\n",
       "      <td>211.0</td>\n",
       "      <td>1634049773</td>\n",
       "      <td>0.048638</td>\n",
       "      <td>0.048638</td>\n",
       "      <td>AUDIO</td>\n",
       "      <td>nestmini</td>\n",
       "      <td>LAN</td>\n",
       "      <td>VOLUMEON</td>\n",
       "    </tr>\n",
       "    <tr>\n",
       "      <th>2</th>\n",
       "      <td>False</td>\n",
       "      <td>False</td>\n",
       "      <td>False</td>\n",
       "      <td>False</td>\n",
       "      <td>0</td>\n",
       "      <td>0</td>\n",
       "      <td>64</td>\n",
       "      <td>3232270593</td>\n",
       "      <td>98</td>\n",
       "      <td>64</td>\n",
       "      <td>...</td>\n",
       "      <td>253.0</td>\n",
       "      <td>42.0</td>\n",
       "      <td>211.0</td>\n",
       "      <td>1634049773</td>\n",
       "      <td>0.386110</td>\n",
       "      <td>0.434748</td>\n",
       "      <td>AUDIO</td>\n",
       "      <td>nestmini</td>\n",
       "      <td>LAN</td>\n",
       "      <td>VOLUMEON</td>\n",
       "    </tr>\n",
       "    <tr>\n",
       "      <th>3</th>\n",
       "      <td>True</td>\n",
       "      <td>False</td>\n",
       "      <td>False</td>\n",
       "      <td>False</td>\n",
       "      <td>2</td>\n",
       "      <td>3</td>\n",
       "      <td>300</td>\n",
       "      <td>3232270593</td>\n",
       "      <td>334</td>\n",
       "      <td>64</td>\n",
       "      <td>...</td>\n",
       "      <td>335.5</td>\n",
       "      <td>53.0</td>\n",
       "      <td>282.5</td>\n",
       "      <td>1634049774</td>\n",
       "      <td>0.458671</td>\n",
       "      <td>0.893419</td>\n",
       "      <td>AUDIO</td>\n",
       "      <td>nestmini</td>\n",
       "      <td>LAN</td>\n",
       "      <td>VOLUMEON</td>\n",
       "    </tr>\n",
       "    <tr>\n",
       "      <th>4</th>\n",
       "      <td>True</td>\n",
       "      <td>False</td>\n",
       "      <td>False</td>\n",
       "      <td>False</td>\n",
       "      <td>3</td>\n",
       "      <td>2</td>\n",
       "      <td>20</td>\n",
       "      <td>3232270754</td>\n",
       "      <td>54</td>\n",
       "      <td>128</td>\n",
       "      <td>...</td>\n",
       "      <td>300.0</td>\n",
       "      <td>20.0</td>\n",
       "      <td>280.0</td>\n",
       "      <td>1634049774</td>\n",
       "      <td>0.051143</td>\n",
       "      <td>0.944562</td>\n",
       "      <td>AUDIO</td>\n",
       "      <td>nestmini</td>\n",
       "      <td>LAN</td>\n",
       "      <td>VOLUMEON</td>\n",
       "    </tr>\n",
       "  </tbody>\n",
       "</table>\n",
       "<p>5 rows × 52 columns</p>\n",
       "</div>"
      ],
      "text/plain": [
       "   L4_tcp  L4_udp  L7_http  L7_https  port_class_src  port_class_dst  \\\n",
       "0    True   False    False     False               2               3   \n",
       "1    True   False    False     False               3               2   \n",
       "2   False   False    False     False               0               0   \n",
       "3    True   False    False     False               2               3   \n",
       "4    True   False    False     False               3               2   \n",
       "\n",
       "   pck_size  ip_dst_new  ethernet_frame_size  ttl  ...   q3_e   q1_e  iqr_e  \\\n",
       "0       442  3232270593                  476   64  ...  442.0  442.0    0.0   \n",
       "1        20  3232270754                   54  128  ...  336.5  125.5  211.0   \n",
       "2        64  3232270593                   98   64  ...  253.0   42.0  211.0   \n",
       "3       300  3232270593                  334   64  ...  335.5   53.0  282.5   \n",
       "4        20  3232270754                   54  128  ...  300.0   20.0  280.0   \n",
       "\n",
       "   epoch_timestamp  inter_arrival_time  time_since_previously_displayed_frame  \\\n",
       "0       1634049773            0.000000                               0.000000   \n",
       "1       1634049773            0.048638                               0.048638   \n",
       "2       1634049773            0.386110                               0.434748   \n",
       "3       1634049774            0.458671                               0.893419   \n",
       "4       1634049774            0.051143                               0.944562   \n",
       "\n",
       "   global_category    device  interaction_type   command  \n",
       "0            AUDIO  nestmini               LAN  VOLUMEON  \n",
       "1            AUDIO  nestmini               LAN  VOLUMEON  \n",
       "2            AUDIO  nestmini               LAN  VOLUMEON  \n",
       "3            AUDIO  nestmini               LAN  VOLUMEON  \n",
       "4            AUDIO  nestmini               LAN  VOLUMEON  \n",
       "\n",
       "[5 rows x 52 columns]"
      ]
     },
     "execution_count": 4,
     "metadata": {},
     "output_type": "execute_result"
    }
   ],
   "source": [
    "# Display the first few rows of the dataset to understand its structure\n",
    "df.head()"
   ]
  },
  {
   "cell_type": "code",
   "execution_count": 5,
   "id": "d91e8fa9",
   "metadata": {},
   "outputs": [],
   "source": [
    "# Handle missing values if any\n",
    "df.dropna(inplace=True)"
   ]
  },
  {
   "cell_type": "code",
   "execution_count": 6,
   "id": "fea566c2",
   "metadata": {},
   "outputs": [
    {
     "data": {
      "text/plain": [
       "(229506, 52)"
      ]
     },
     "execution_count": 6,
     "metadata": {},
     "output_type": "execute_result"
    }
   ],
   "source": [
    "df.shape"
   ]
  },
  {
   "cell_type": "code",
   "execution_count": 7,
   "id": "c439a24b",
   "metadata": {},
   "outputs": [
    {
     "data": {
      "text/plain": [
       "global_category\n",
       "CAMERA             191175\n",
       "HOME AUTOMATION     19557\n",
       "AUDIO               18774\n",
       "Name: count, dtype: int64"
      ]
     },
     "execution_count": 7,
     "metadata": {},
     "output_type": "execute_result"
    }
   ],
   "source": [
    "df.global_category.value_counts()"
   ]
  },
  {
   "cell_type": "code",
   "execution_count": 8,
   "id": "189937f0",
   "metadata": {},
   "outputs": [
    {
     "data": {
      "text/plain": [
       "global_category\n",
       "CAMERA             20175\n",
       "HOME AUTOMATION    19557\n",
       "AUDIO              18774\n",
       "Name: count, dtype: int64"
      ]
     },
     "execution_count": 8,
     "metadata": {},
     "output_type": "execute_result"
    }
   ],
   "source": [
    "# Let's balance it out more or less, optional\n",
    "df = df.drop(index=df.loc[df.global_category == 'CAMERA'].sample(171000).index)\n",
    "df.global_category.value_counts()"
   ]
  },
  {
   "cell_type": "code",
   "execution_count": 9,
   "id": "2a034ad6",
   "metadata": {},
   "outputs": [
    {
     "data": {
      "text/plain": [
       "Index(['L4_tcp', 'L4_udp', 'L7_http', 'L7_https', 'port_class_src',\n",
       "       'port_class_dst', 'pck_size', 'ip_dst_new', 'ethernet_frame_size',\n",
       "       'ttl', 'total_length', 'protocol', 'source_port', 'dest_port',\n",
       "       'DNS_count', 'NTP_count', 'ARP_count', 'cnt', 'L3_ip_dst_count',\n",
       "       'most_freq_d_ip', 'most_freq_prot', 'most_freq_sport',\n",
       "       'most_freq_dport', 'sum_et', 'min_et', 'max_et', 'med_et', 'average_et',\n",
       "       'skew_et', 'kurt_et', 'var', 'q3', 'q1', 'iqr', 'sum_e', 'min_e',\n",
       "       'max_e', 'med', 'average', 'skew_e', 'kurt_e', 'var_e', 'q3_e', 'q1_e',\n",
       "       'iqr_e', 'epoch_timestamp', 'inter_arrival_time',\n",
       "       'time_since_previously_displayed_frame', 'global_category', 'device',\n",
       "       'interaction_type', 'command'],\n",
       "      dtype='object')"
      ]
     },
     "execution_count": 9,
     "metadata": {},
     "output_type": "execute_result"
    }
   ],
   "source": [
    "df.columns"
   ]
  },
  {
   "cell_type": "code",
   "execution_count": 10,
   "id": "bc6585a0",
   "metadata": {},
   "outputs": [],
   "source": [
    "audio = df.loc[df.global_category == 'AUDIO'].index\n",
    "camera = df.loc[df.global_category == 'CAMERA'].index\n",
    "automation = df.loc[df.global_category == 'HOME AUTOMATION'].index"
   ]
  },
  {
   "cell_type": "code",
   "execution_count": 11,
   "id": "c056812d",
   "metadata": {},
   "outputs": [],
   "source": [
    "df = df.drop(columns=['device', 'interaction_type', 'command'])"
   ]
  },
  {
   "cell_type": "code",
   "execution_count": 12,
   "id": "1c6f7db3",
   "metadata": {},
   "outputs": [
    {
     "name": "stdout",
     "output_type": "stream",
     "text": [
      "0 Index([], dtype='object')\n",
      "49 Index(['L4_tcp', 'L4_udp', 'L7_http', 'L7_https', 'port_class_src',\n",
      "       'port_class_dst', 'pck_size', 'ip_dst_new', 'ethernet_frame_size',\n",
      "       'ttl', 'total_length', 'protocol', 'source_port', 'dest_port',\n",
      "       'DNS_count', 'NTP_count', 'ARP_count', 'cnt', 'L3_ip_dst_count',\n",
      "       'most_freq_d_ip', 'most_freq_prot', 'most_freq_sport',\n",
      "       'most_freq_dport', 'sum_et', 'min_et', 'max_et', 'med_et', 'average_et',\n",
      "       'skew_et', 'kurt_et', 'var', 'q3', 'q1', 'iqr', 'sum_e', 'min_e',\n",
      "       'max_e', 'med', 'average', 'skew_e', 'kurt_e', 'var_e', 'q3_e', 'q1_e',\n",
      "       'iqr_e', 'epoch_timestamp', 'inter_arrival_time',\n",
      "       'time_since_previously_displayed_frame', 'global_category'],\n",
      "      dtype='object')\n",
      "(58506, 49)\n"
     ]
    }
   ],
   "source": [
    "cats = df.select_dtypes('category').columns\n",
    "print(len(cats), cats)\n",
    "conts = df.columns.difference(cats)\n",
    "print(len(conts), conts)\n",
    "target = 'global_category'\n",
    "print(df.shape)"
   ]
  },
  {
   "cell_type": "code",
   "execution_count": 13,
   "id": "0b769a88",
   "metadata": {},
   "outputs": [],
   "source": [
    "def xs_y(df_, targ): \n",
    "    if not isinstance(targ, list):\n",
    "        xs = df_[df_.columns.difference([targ])].copy()\n",
    "    else:\n",
    "        xs = df_[df_.columns.difference(targ)].copy()\n",
    "    y = df_[targ].copy()\n",
    "    return xs, y"
   ]
  },
  {
   "cell_type": "code",
   "execution_count": 14,
   "id": "a89e8c69",
   "metadata": {},
   "outputs": [
    {
     "data": {
      "text/plain": [
       "((11701, 49), (46805, 49))"
      ]
     },
     "execution_count": 14,
     "metadata": {},
     "output_type": "execute_result"
    }
   ],
   "source": [
    "training_set = df.sample(frac=0.2, replace=False, random_state=42)\n",
    "testing_set = df.drop(index=training_set.index)\n",
    "training_set.shape, testing_set.shape"
   ]
  },
  {
   "cell_type": "code",
   "execution_count": 15,
   "id": "ec5269e9",
   "metadata": {},
   "outputs": [],
   "source": [
    "X_train, y_train = xs_y(training_set, targ=target)\n",
    "X_test, y_test = xs_y(testing_set, targ=target)"
   ]
  },
  {
   "cell_type": "code",
   "execution_count": 16,
   "id": "eee5fb26",
   "metadata": {},
   "outputs": [],
   "source": [
    "# Step 5: Feature Scaling \n",
    "from sklearn.preprocessing import StandardScaler\n",
    "scaler = StandardScaler()\n",
    "X_train_scaled = scaler.fit_transform(X_train)\n",
    "X_test_scaled = scaler.transform(X_test)"
   ]
  },
  {
   "cell_type": "code",
   "execution_count": 17,
   "id": "4a03127d",
   "metadata": {},
   "outputs": [
    {
     "data": {
      "text/html": [
       "<style>#sk-container-id-1 {color: black;}#sk-container-id-1 pre{padding: 0;}#sk-container-id-1 div.sk-toggleable {background-color: white;}#sk-container-id-1 label.sk-toggleable__label {cursor: pointer;display: block;width: 100%;margin-bottom: 0;padding: 0.3em;box-sizing: border-box;text-align: center;}#sk-container-id-1 label.sk-toggleable__label-arrow:before {content: \"▸\";float: left;margin-right: 0.25em;color: #696969;}#sk-container-id-1 label.sk-toggleable__label-arrow:hover:before {color: black;}#sk-container-id-1 div.sk-estimator:hover label.sk-toggleable__label-arrow:before {color: black;}#sk-container-id-1 div.sk-toggleable__content {max-height: 0;max-width: 0;overflow: hidden;text-align: left;background-color: #f0f8ff;}#sk-container-id-1 div.sk-toggleable__content pre {margin: 0.2em;color: black;border-radius: 0.25em;background-color: #f0f8ff;}#sk-container-id-1 input.sk-toggleable__control:checked~div.sk-toggleable__content {max-height: 200px;max-width: 100%;overflow: auto;}#sk-container-id-1 input.sk-toggleable__control:checked~label.sk-toggleable__label-arrow:before {content: \"▾\";}#sk-container-id-1 div.sk-estimator input.sk-toggleable__control:checked~label.sk-toggleable__label {background-color: #d4ebff;}#sk-container-id-1 div.sk-label input.sk-toggleable__control:checked~label.sk-toggleable__label {background-color: #d4ebff;}#sk-container-id-1 input.sk-hidden--visually {border: 0;clip: rect(1px 1px 1px 1px);clip: rect(1px, 1px, 1px, 1px);height: 1px;margin: -1px;overflow: hidden;padding: 0;position: absolute;width: 1px;}#sk-container-id-1 div.sk-estimator {font-family: monospace;background-color: #f0f8ff;border: 1px dotted black;border-radius: 0.25em;box-sizing: border-box;margin-bottom: 0.5em;}#sk-container-id-1 div.sk-estimator:hover {background-color: #d4ebff;}#sk-container-id-1 div.sk-parallel-item::after {content: \"\";width: 100%;border-bottom: 1px solid gray;flex-grow: 1;}#sk-container-id-1 div.sk-label:hover label.sk-toggleable__label {background-color: #d4ebff;}#sk-container-id-1 div.sk-serial::before {content: \"\";position: absolute;border-left: 1px solid gray;box-sizing: border-box;top: 0;bottom: 0;left: 50%;z-index: 0;}#sk-container-id-1 div.sk-serial {display: flex;flex-direction: column;align-items: center;background-color: white;padding-right: 0.2em;padding-left: 0.2em;position: relative;}#sk-container-id-1 div.sk-item {position: relative;z-index: 1;}#sk-container-id-1 div.sk-parallel {display: flex;align-items: stretch;justify-content: center;background-color: white;position: relative;}#sk-container-id-1 div.sk-item::before, #sk-container-id-1 div.sk-parallel-item::before {content: \"\";position: absolute;border-left: 1px solid gray;box-sizing: border-box;top: 0;bottom: 0;left: 50%;z-index: -1;}#sk-container-id-1 div.sk-parallel-item {display: flex;flex-direction: column;z-index: 1;position: relative;background-color: white;}#sk-container-id-1 div.sk-parallel-item:first-child::after {align-self: flex-end;width: 50%;}#sk-container-id-1 div.sk-parallel-item:last-child::after {align-self: flex-start;width: 50%;}#sk-container-id-1 div.sk-parallel-item:only-child::after {width: 0;}#sk-container-id-1 div.sk-dashed-wrapped {border: 1px dashed gray;margin: 0 0.4em 0.5em 0.4em;box-sizing: border-box;padding-bottom: 0.4em;background-color: white;}#sk-container-id-1 div.sk-label label {font-family: monospace;font-weight: bold;display: inline-block;line-height: 1.2em;}#sk-container-id-1 div.sk-label-container {text-align: center;}#sk-container-id-1 div.sk-container {/* jupyter's `normalize.less` sets `[hidden] { display: none; }` but bootstrap.min.css set `[hidden] { display: none !important; }` so we also need the `!important` here to be able to override the default hidden behavior on the sphinx rendered scikit-learn.org. See: https://github.com/scikit-learn/scikit-learn/issues/21755 */display: inline-block !important;position: relative;}#sk-container-id-1 div.sk-text-repr-fallback {display: none;}</style><div id=\"sk-container-id-1\" class=\"sk-top-container\"><div class=\"sk-text-repr-fallback\"><pre>SVC()</pre><b>In a Jupyter environment, please rerun this cell to show the HTML representation or trust the notebook. <br />On GitHub, the HTML representation is unable to render, please try loading this page with nbviewer.org.</b></div><div class=\"sk-container\" hidden><div class=\"sk-item\"><div class=\"sk-estimator sk-toggleable\"><input class=\"sk-toggleable__control sk-hidden--visually\" id=\"sk-estimator-id-1\" type=\"checkbox\" checked><label for=\"sk-estimator-id-1\" class=\"sk-toggleable__label sk-toggleable__label-arrow\">SVC</label><div class=\"sk-toggleable__content\"><pre>SVC()</pre></div></div></div></div></div>"
      ],
      "text/plain": [
       "SVC()"
      ]
     },
     "execution_count": 17,
     "metadata": {},
     "output_type": "execute_result"
    }
   ],
   "source": [
    "# step 6: Train the SVM Model \n",
    "\n",
    "svm_model = SVC(kernel='rbf', C=1.0, gamma='scale') # You can adjust hyperparameters\n",
    "svm_model.fit(X_train_scaled, y_train)"
   ]
  },
  {
   "cell_type": "code",
   "execution_count": 18,
   "id": "d16bc19c",
   "metadata": {},
   "outputs": [],
   "source": [
    "# step 7 : Model Evaluation\n",
    "y_pred = svm_model.predict(X_test_scaled)\n"
   ]
  },
  {
   "cell_type": "code",
   "execution_count": 19,
   "id": "5615e075",
   "metadata": {},
   "outputs": [
    {
     "name": "stdout",
     "output_type": "stream",
     "text": [
      "Accuracy: 0.974746287789766\n",
      "\n",
      "Classification Report:\n",
      "                 precision    recall  f1-score   support\n",
      "\n",
      "          AUDIO       0.95      0.99      0.97     15037\n",
      "         CAMERA       0.99      0.96      0.97     16160\n",
      "HOME AUTOMATION       0.99      0.97      0.98     15608\n",
      "\n",
      "       accuracy                           0.97     46805\n",
      "      macro avg       0.97      0.98      0.97     46805\n",
      "   weighted avg       0.98      0.97      0.97     46805\n",
      "\n",
      "Confusion Matrix:\n",
      "[[14882    74    81]\n",
      " [  495 15570    95]\n",
      " [  275   162 15171]]\n"
     ]
    }
   ],
   "source": [
    "# step 8: Evaluate The Model  \n",
    "# Calculate accuracy\n",
    "accuracy = accuracy_score(y_test, y_pred)\n",
    "print(\"Accuracy:\", accuracy)\n",
    "\n",
    "# Classification report\n",
    "print(\"\\nClassification Report:\")\n",
    "print(classification_report(y_test, y_pred))\n",
    "\n",
    "print(\"Confusion Matrix:\")\n",
    "print(confusion_matrix(y_test, y_pred))\n"
   ]
  },
  {
   "cell_type": "markdown",
   "id": "ae6ee21f",
   "metadata": {},
   "source": [
    "# Grid Search"
   ]
  },
  {
   "cell_type": "code",
   "execution_count": 20,
   "id": "2a3b5274",
   "metadata": {},
   "outputs": [],
   "source": [
    "# Step 1: Import Necessary Libraries\n",
    "from sklearn.model_selection import GridSearchCV\n"
   ]
  },
  {
   "cell_type": "code",
   "execution_count": 21,
   "id": "dd3202f9",
   "metadata": {},
   "outputs": [],
   "source": [
    "# Step 2: Define Parameter Grid\n",
    "# Define the parameter grid\n",
    "param_grid = {'C': [0.1, 1, 10, 100], 'gamma': [1, 0.1, 0.01, 0.001], 'kernel': ['rbf']}\n"
   ]
  },
  {
   "cell_type": "code",
   "execution_count": 22,
   "id": "b77d8f77",
   "metadata": {},
   "outputs": [],
   "source": [
    "# Step 4: Initialize Grid Search\n",
    "grid = GridSearchCV(SVC(), param_grid, refit=True, verbose=3)\n"
   ]
  },
  {
   "cell_type": "code",
   "execution_count": 23,
   "id": "7718176d",
   "metadata": {},
   "outputs": [
    {
     "name": "stdout",
     "output_type": "stream",
     "text": [
      "Fitting 5 folds for each of 16 candidates, totalling 80 fits\n",
      "[CV 1/5] END ........C=0.1, gamma=1, kernel=rbf;, score=0.523 total time=   8.7s\n",
      "[CV 2/5] END ........C=0.1, gamma=1, kernel=rbf;, score=0.500 total time=   8.4s\n",
      "[CV 3/5] END ........C=0.1, gamma=1, kernel=rbf;, score=0.524 total time=   8.3s\n",
      "[CV 4/5] END ........C=0.1, gamma=1, kernel=rbf;, score=0.510 total time=   8.4s\n",
      "[CV 5/5] END ........C=0.1, gamma=1, kernel=rbf;, score=0.510 total time=   8.4s\n",
      "[CV 1/5] END ......C=0.1, gamma=0.1, kernel=rbf;, score=0.909 total time=   4.7s\n",
      "[CV 2/5] END ......C=0.1, gamma=0.1, kernel=rbf;, score=0.918 total time=   4.5s\n",
      "[CV 3/5] END ......C=0.1, gamma=0.1, kernel=rbf;, score=0.916 total time=   4.5s\n",
      "[CV 4/5] END ......C=0.1, gamma=0.1, kernel=rbf;, score=0.900 total time=   4.4s\n",
      "[CV 5/5] END ......C=0.1, gamma=0.1, kernel=rbf;, score=0.922 total time=   4.5s\n",
      "[CV 1/5] END .....C=0.1, gamma=0.01, kernel=rbf;, score=0.902 total time=   3.5s\n",
      "[CV 2/5] END .....C=0.1, gamma=0.01, kernel=rbf;, score=0.914 total time=   3.5s\n",
      "[CV 3/5] END .....C=0.1, gamma=0.01, kernel=rbf;, score=0.912 total time=   3.5s\n",
      "[CV 4/5] END .....C=0.1, gamma=0.01, kernel=rbf;, score=0.896 total time=   3.5s\n",
      "[CV 5/5] END .....C=0.1, gamma=0.01, kernel=rbf;, score=0.921 total time=   3.8s\n",
      "[CV 1/5] END ....C=0.1, gamma=0.001, kernel=rbf;, score=0.760 total time=   6.0s\n",
      "[CV 2/5] END ....C=0.1, gamma=0.001, kernel=rbf;, score=0.753 total time=   6.0s\n",
      "[CV 3/5] END ....C=0.1, gamma=0.001, kernel=rbf;, score=0.766 total time=   6.0s\n",
      "[CV 4/5] END ....C=0.1, gamma=0.001, kernel=rbf;, score=0.759 total time=   5.9s\n",
      "[CV 5/5] END ....C=0.1, gamma=0.001, kernel=rbf;, score=0.765 total time=   6.2s\n",
      "[CV 1/5] END ..........C=1, gamma=1, kernel=rbf;, score=0.847 total time=  10.0s\n",
      "[CV 2/5] END ..........C=1, gamma=1, kernel=rbf;, score=0.846 total time=   9.5s\n",
      "[CV 3/5] END ..........C=1, gamma=1, kernel=rbf;, score=0.837 total time=   9.4s\n",
      "[CV 4/5] END ..........C=1, gamma=1, kernel=rbf;, score=0.836 total time=   9.4s\n",
      "[CV 5/5] END ..........C=1, gamma=1, kernel=rbf;, score=0.841 total time=   9.7s\n",
      "[CV 1/5] END ........C=1, gamma=0.1, kernel=rbf;, score=0.974 total time=   2.9s\n",
      "[CV 2/5] END ........C=1, gamma=0.1, kernel=rbf;, score=0.976 total time=   2.8s\n",
      "[CV 3/5] END ........C=1, gamma=0.1, kernel=rbf;, score=0.975 total time=   2.8s\n",
      "[CV 4/5] END ........C=1, gamma=0.1, kernel=rbf;, score=0.970 total time=   2.9s\n",
      "[CV 5/5] END ........C=1, gamma=0.1, kernel=rbf;, score=0.977 total time=   2.8s\n",
      "[CV 1/5] END .......C=1, gamma=0.01, kernel=rbf;, score=0.962 total time=   1.6s\n",
      "[CV 2/5] END .......C=1, gamma=0.01, kernel=rbf;, score=0.969 total time=   1.6s\n",
      "[CV 3/5] END .......C=1, gamma=0.01, kernel=rbf;, score=0.970 total time=   1.6s\n",
      "[CV 4/5] END .......C=1, gamma=0.01, kernel=rbf;, score=0.952 total time=   1.5s\n",
      "[CV 5/5] END .......C=1, gamma=0.01, kernel=rbf;, score=0.970 total time=   1.6s\n",
      "[CV 1/5] END ......C=1, gamma=0.001, kernel=rbf;, score=0.876 total time=   3.3s\n",
      "[CV 2/5] END ......C=1, gamma=0.001, kernel=rbf;, score=0.885 total time=   3.3s\n",
      "[CV 3/5] END ......C=1, gamma=0.001, kernel=rbf;, score=0.894 total time=   3.4s\n",
      "[CV 4/5] END ......C=1, gamma=0.001, kernel=rbf;, score=0.877 total time=   3.3s\n",
      "[CV 5/5] END ......C=1, gamma=0.001, kernel=rbf;, score=0.891 total time=   3.3s\n",
      "[CV 1/5] END .........C=10, gamma=1, kernel=rbf;, score=0.862 total time=  10.1s\n",
      "[CV 2/5] END .........C=10, gamma=1, kernel=rbf;, score=0.856 total time=   9.9s\n",
      "[CV 3/5] END .........C=10, gamma=1, kernel=rbf;, score=0.851 total time=  10.8s\n",
      "[CV 4/5] END .........C=10, gamma=1, kernel=rbf;, score=0.851 total time=  10.9s\n",
      "[CV 5/5] END .........C=10, gamma=1, kernel=rbf;, score=0.857 total time=   9.7s\n",
      "[CV 1/5] END .......C=10, gamma=0.1, kernel=rbf;, score=0.976 total time=   2.7s\n",
      "[CV 2/5] END .......C=10, gamma=0.1, kernel=rbf;, score=0.982 total time=   2.7s\n",
      "[CV 3/5] END .......C=10, gamma=0.1, kernel=rbf;, score=0.980 total time=   2.8s\n",
      "[CV 4/5] END .......C=10, gamma=0.1, kernel=rbf;, score=0.974 total time=   2.7s\n",
      "[CV 5/5] END .......C=10, gamma=0.1, kernel=rbf;, score=0.979 total time=   2.9s\n",
      "[CV 1/5] END ......C=10, gamma=0.01, kernel=rbf;, score=0.979 total time=   0.9s\n",
      "[CV 2/5] END ......C=10, gamma=0.01, kernel=rbf;, score=0.983 total time=   0.9s\n",
      "[CV 3/5] END ......C=10, gamma=0.01, kernel=rbf;, score=0.985 total time=   0.9s\n",
      "[CV 4/5] END ......C=10, gamma=0.01, kernel=rbf;, score=0.978 total time=   0.9s\n",
      "[CV 5/5] END ......C=10, gamma=0.01, kernel=rbf;, score=0.985 total time=   0.9s\n",
      "[CV 1/5] END .....C=10, gamma=0.001, kernel=rbf;, score=0.938 total time=   1.8s\n",
      "[CV 2/5] END .....C=10, gamma=0.001, kernel=rbf;, score=0.943 total time=   1.9s\n",
      "[CV 3/5] END .....C=10, gamma=0.001, kernel=rbf;, score=0.944 total time=   1.9s\n",
      "[CV 4/5] END .....C=10, gamma=0.001, kernel=rbf;, score=0.930 total time=   1.9s\n",
      "[CV 5/5] END .....C=10, gamma=0.001, kernel=rbf;, score=0.946 total time=   1.9s\n",
      "[CV 1/5] END ........C=100, gamma=1, kernel=rbf;, score=0.862 total time=  10.0s\n",
      "[CV 2/5] END ........C=100, gamma=1, kernel=rbf;, score=0.856 total time=   9.9s\n",
      "[CV 3/5] END ........C=100, gamma=1, kernel=rbf;, score=0.851 total time=  10.4s\n",
      "[CV 4/5] END ........C=100, gamma=1, kernel=rbf;, score=0.851 total time=  10.0s\n",
      "[CV 5/5] END ........C=100, gamma=1, kernel=rbf;, score=0.857 total time=   9.5s\n",
      "[CV 1/5] END ......C=100, gamma=0.1, kernel=rbf;, score=0.977 total time=   2.8s\n",
      "[CV 2/5] END ......C=100, gamma=0.1, kernel=rbf;, score=0.982 total time=   3.0s\n",
      "[CV 3/5] END ......C=100, gamma=0.1, kernel=rbf;, score=0.982 total time=   2.9s\n",
      "[CV 4/5] END ......C=100, gamma=0.1, kernel=rbf;, score=0.975 total time=   2.8s\n",
      "[CV 5/5] END ......C=100, gamma=0.1, kernel=rbf;, score=0.980 total time=   2.9s\n",
      "[CV 1/5] END .....C=100, gamma=0.01, kernel=rbf;, score=0.982 total time=   0.9s\n",
      "[CV 2/5] END .....C=100, gamma=0.01, kernel=rbf;, score=0.989 total time=   0.9s\n",
      "[CV 3/5] END .....C=100, gamma=0.01, kernel=rbf;, score=0.986 total time=   0.9s\n",
      "[CV 4/5] END .....C=100, gamma=0.01, kernel=rbf;, score=0.987 total time=   0.8s\n",
      "[CV 5/5] END .....C=100, gamma=0.01, kernel=rbf;, score=0.991 total time=   0.8s\n",
      "[CV 1/5] END ....C=100, gamma=0.001, kernel=rbf;, score=0.967 total time=   1.3s\n",
      "[CV 2/5] END ....C=100, gamma=0.001, kernel=rbf;, score=0.970 total time=   1.4s\n",
      "[CV 3/5] END ....C=100, gamma=0.001, kernel=rbf;, score=0.975 total time=   1.2s\n",
      "[CV 4/5] END ....C=100, gamma=0.001, kernel=rbf;, score=0.962 total time=   1.2s\n",
      "[CV 5/5] END ....C=100, gamma=0.001, kernel=rbf;, score=0.969 total time=   1.2s\n"
     ]
    },
    {
     "data": {
      "text/html": [
       "<style>#sk-container-id-2 {color: black;}#sk-container-id-2 pre{padding: 0;}#sk-container-id-2 div.sk-toggleable {background-color: white;}#sk-container-id-2 label.sk-toggleable__label {cursor: pointer;display: block;width: 100%;margin-bottom: 0;padding: 0.3em;box-sizing: border-box;text-align: center;}#sk-container-id-2 label.sk-toggleable__label-arrow:before {content: \"▸\";float: left;margin-right: 0.25em;color: #696969;}#sk-container-id-2 label.sk-toggleable__label-arrow:hover:before {color: black;}#sk-container-id-2 div.sk-estimator:hover label.sk-toggleable__label-arrow:before {color: black;}#sk-container-id-2 div.sk-toggleable__content {max-height: 0;max-width: 0;overflow: hidden;text-align: left;background-color: #f0f8ff;}#sk-container-id-2 div.sk-toggleable__content pre {margin: 0.2em;color: black;border-radius: 0.25em;background-color: #f0f8ff;}#sk-container-id-2 input.sk-toggleable__control:checked~div.sk-toggleable__content {max-height: 200px;max-width: 100%;overflow: auto;}#sk-container-id-2 input.sk-toggleable__control:checked~label.sk-toggleable__label-arrow:before {content: \"▾\";}#sk-container-id-2 div.sk-estimator input.sk-toggleable__control:checked~label.sk-toggleable__label {background-color: #d4ebff;}#sk-container-id-2 div.sk-label input.sk-toggleable__control:checked~label.sk-toggleable__label {background-color: #d4ebff;}#sk-container-id-2 input.sk-hidden--visually {border: 0;clip: rect(1px 1px 1px 1px);clip: rect(1px, 1px, 1px, 1px);height: 1px;margin: -1px;overflow: hidden;padding: 0;position: absolute;width: 1px;}#sk-container-id-2 div.sk-estimator {font-family: monospace;background-color: #f0f8ff;border: 1px dotted black;border-radius: 0.25em;box-sizing: border-box;margin-bottom: 0.5em;}#sk-container-id-2 div.sk-estimator:hover {background-color: #d4ebff;}#sk-container-id-2 div.sk-parallel-item::after {content: \"\";width: 100%;border-bottom: 1px solid gray;flex-grow: 1;}#sk-container-id-2 div.sk-label:hover label.sk-toggleable__label {background-color: #d4ebff;}#sk-container-id-2 div.sk-serial::before {content: \"\";position: absolute;border-left: 1px solid gray;box-sizing: border-box;top: 0;bottom: 0;left: 50%;z-index: 0;}#sk-container-id-2 div.sk-serial {display: flex;flex-direction: column;align-items: center;background-color: white;padding-right: 0.2em;padding-left: 0.2em;position: relative;}#sk-container-id-2 div.sk-item {position: relative;z-index: 1;}#sk-container-id-2 div.sk-parallel {display: flex;align-items: stretch;justify-content: center;background-color: white;position: relative;}#sk-container-id-2 div.sk-item::before, #sk-container-id-2 div.sk-parallel-item::before {content: \"\";position: absolute;border-left: 1px solid gray;box-sizing: border-box;top: 0;bottom: 0;left: 50%;z-index: -1;}#sk-container-id-2 div.sk-parallel-item {display: flex;flex-direction: column;z-index: 1;position: relative;background-color: white;}#sk-container-id-2 div.sk-parallel-item:first-child::after {align-self: flex-end;width: 50%;}#sk-container-id-2 div.sk-parallel-item:last-child::after {align-self: flex-start;width: 50%;}#sk-container-id-2 div.sk-parallel-item:only-child::after {width: 0;}#sk-container-id-2 div.sk-dashed-wrapped {border: 1px dashed gray;margin: 0 0.4em 0.5em 0.4em;box-sizing: border-box;padding-bottom: 0.4em;background-color: white;}#sk-container-id-2 div.sk-label label {font-family: monospace;font-weight: bold;display: inline-block;line-height: 1.2em;}#sk-container-id-2 div.sk-label-container {text-align: center;}#sk-container-id-2 div.sk-container {/* jupyter's `normalize.less` sets `[hidden] { display: none; }` but bootstrap.min.css set `[hidden] { display: none !important; }` so we also need the `!important` here to be able to override the default hidden behavior on the sphinx rendered scikit-learn.org. See: https://github.com/scikit-learn/scikit-learn/issues/21755 */display: inline-block !important;position: relative;}#sk-container-id-2 div.sk-text-repr-fallback {display: none;}</style><div id=\"sk-container-id-2\" class=\"sk-top-container\"><div class=\"sk-text-repr-fallback\"><pre>GridSearchCV(estimator=SVC(),\n",
       "             param_grid={&#x27;C&#x27;: [0.1, 1, 10, 100], &#x27;gamma&#x27;: [1, 0.1, 0.01, 0.001],\n",
       "                         &#x27;kernel&#x27;: [&#x27;rbf&#x27;]},\n",
       "             verbose=3)</pre><b>In a Jupyter environment, please rerun this cell to show the HTML representation or trust the notebook. <br />On GitHub, the HTML representation is unable to render, please try loading this page with nbviewer.org.</b></div><div class=\"sk-container\" hidden><div class=\"sk-item sk-dashed-wrapped\"><div class=\"sk-label-container\"><div class=\"sk-label sk-toggleable\"><input class=\"sk-toggleable__control sk-hidden--visually\" id=\"sk-estimator-id-2\" type=\"checkbox\" ><label for=\"sk-estimator-id-2\" class=\"sk-toggleable__label sk-toggleable__label-arrow\">GridSearchCV</label><div class=\"sk-toggleable__content\"><pre>GridSearchCV(estimator=SVC(),\n",
       "             param_grid={&#x27;C&#x27;: [0.1, 1, 10, 100], &#x27;gamma&#x27;: [1, 0.1, 0.01, 0.001],\n",
       "                         &#x27;kernel&#x27;: [&#x27;rbf&#x27;]},\n",
       "             verbose=3)</pre></div></div></div><div class=\"sk-parallel\"><div class=\"sk-parallel-item\"><div class=\"sk-item\"><div class=\"sk-label-container\"><div class=\"sk-label sk-toggleable\"><input class=\"sk-toggleable__control sk-hidden--visually\" id=\"sk-estimator-id-3\" type=\"checkbox\" ><label for=\"sk-estimator-id-3\" class=\"sk-toggleable__label sk-toggleable__label-arrow\">estimator: SVC</label><div class=\"sk-toggleable__content\"><pre>SVC()</pre></div></div></div><div class=\"sk-serial\"><div class=\"sk-item\"><div class=\"sk-estimator sk-toggleable\"><input class=\"sk-toggleable__control sk-hidden--visually\" id=\"sk-estimator-id-4\" type=\"checkbox\" ><label for=\"sk-estimator-id-4\" class=\"sk-toggleable__label sk-toggleable__label-arrow\">SVC</label><div class=\"sk-toggleable__content\"><pre>SVC()</pre></div></div></div></div></div></div></div></div></div></div>"
      ],
      "text/plain": [
       "GridSearchCV(estimator=SVC(),\n",
       "             param_grid={'C': [0.1, 1, 10, 100], 'gamma': [1, 0.1, 0.01, 0.001],\n",
       "                         'kernel': ['rbf']},\n",
       "             verbose=3)"
      ]
     },
     "execution_count": 23,
     "metadata": {},
     "output_type": "execute_result"
    }
   ],
   "source": [
    "# Step 5: Fit Grid Search to Data\n",
    "grid.fit(X_train_scaled, y_train)\n"
   ]
  },
  {
   "cell_type": "code",
   "execution_count": 24,
   "id": "4ca63bcd",
   "metadata": {},
   "outputs": [
    {
     "name": "stdout",
     "output_type": "stream",
     "text": [
      "Best parameters found:  {'C': 100, 'gamma': 0.01, 'kernel': 'rbf'}\n"
     ]
    }
   ],
   "source": [
    "# step 6: Get Best Parameters \n",
    "print(\"Best parameters found: \", grid.best_params_)\n"
   ]
  },
  {
   "cell_type": "code",
   "execution_count": 25,
   "id": "4b40ac89",
   "metadata": {},
   "outputs": [],
   "source": [
    "# Step 7: Evaluate the Model\n",
    "y_pred1 = grid.predict(X_test_scaled)\n",
    "accuracy_grid = accuracy_score(y_test, y_pred1)\n"
   ]
  },
  {
   "cell_type": "code",
   "execution_count": 26,
   "id": "a89cf12c",
   "metadata": {},
   "outputs": [
    {
     "name": "stdout",
     "output_type": "stream",
     "text": [
      "Accuracy: 0.9869244738809956\n",
      "Classification Report:\n",
      "                 precision    recall  f1-score   support\n",
      "\n",
      "          AUDIO       0.98      0.99      0.98     15037\n",
      "         CAMERA       0.99      0.98      0.99     16160\n",
      "HOME AUTOMATION       0.99      0.99      0.99     15608\n",
      "\n",
      "       accuracy                           0.99     46805\n",
      "      macro avg       0.99      0.99      0.99     46805\n",
      "   weighted avg       0.99      0.99      0.99     46805\n",
      "\n",
      "Confusion Matrix:\n",
      "[[14915    77    45]\n",
      " [  274 15818    68]\n",
      " [   86    62 15460]]\n"
     ]
    }
   ],
   "source": [
    "# step 9 : Evaluate The Model \n",
    "# Calculate accuracy\n",
    "print(\"Accuracy:\", accuracy_grid)\n",
    "print(\"Classification Report:\")\n",
    "print(classification_report(y_test, y_pred1))\n",
    "print(\"Confusion Matrix:\")\n",
    "print(confusion_matrix(y_test, y_pred1))\n"
   ]
  },
  {
   "cell_type": "markdown",
   "id": "0424a4f2",
   "metadata": {},
   "source": [
    "# Random Search  "
   ]
  },
  {
   "cell_type": "code",
   "execution_count": 27,
   "id": "eb38c352",
   "metadata": {},
   "outputs": [],
   "source": [
    "# Step 1: Import Necessary Libraries\n",
    "from sklearn.model_selection import RandomizedSearchCV\n"
   ]
  },
  {
   "cell_type": "code",
   "execution_count": 28,
   "id": "04242914",
   "metadata": {},
   "outputs": [],
   "source": [
    "# Step 2: Define Parameter Distributions\n",
    "from scipy.stats import uniform, randint\n",
    "# Define the parameter distributions\n",
    "param_dist = {'C': uniform(0.1, 10), 'gamma': uniform(0.01, 1), 'kernel': ['rbf']}\n"
   ]
  },
  {
   "cell_type": "code",
   "execution_count": 29,
   "id": "2eb9655b",
   "metadata": {},
   "outputs": [],
   "source": [
    "# Step 4: Initialize Randomized Search\n",
    "random_search = RandomizedSearchCV(SVC(), param_distributions=param_dist, n_iter=10, random_state=42, cv=5)\n"
   ]
  },
  {
   "cell_type": "code",
   "execution_count": 30,
   "id": "e2c615a7",
   "metadata": {},
   "outputs": [
    {
     "data": {
      "text/html": [
       "<style>#sk-container-id-3 {color: black;}#sk-container-id-3 pre{padding: 0;}#sk-container-id-3 div.sk-toggleable {background-color: white;}#sk-container-id-3 label.sk-toggleable__label {cursor: pointer;display: block;width: 100%;margin-bottom: 0;padding: 0.3em;box-sizing: border-box;text-align: center;}#sk-container-id-3 label.sk-toggleable__label-arrow:before {content: \"▸\";float: left;margin-right: 0.25em;color: #696969;}#sk-container-id-3 label.sk-toggleable__label-arrow:hover:before {color: black;}#sk-container-id-3 div.sk-estimator:hover label.sk-toggleable__label-arrow:before {color: black;}#sk-container-id-3 div.sk-toggleable__content {max-height: 0;max-width: 0;overflow: hidden;text-align: left;background-color: #f0f8ff;}#sk-container-id-3 div.sk-toggleable__content pre {margin: 0.2em;color: black;border-radius: 0.25em;background-color: #f0f8ff;}#sk-container-id-3 input.sk-toggleable__control:checked~div.sk-toggleable__content {max-height: 200px;max-width: 100%;overflow: auto;}#sk-container-id-3 input.sk-toggleable__control:checked~label.sk-toggleable__label-arrow:before {content: \"▾\";}#sk-container-id-3 div.sk-estimator input.sk-toggleable__control:checked~label.sk-toggleable__label {background-color: #d4ebff;}#sk-container-id-3 div.sk-label input.sk-toggleable__control:checked~label.sk-toggleable__label {background-color: #d4ebff;}#sk-container-id-3 input.sk-hidden--visually {border: 0;clip: rect(1px 1px 1px 1px);clip: rect(1px, 1px, 1px, 1px);height: 1px;margin: -1px;overflow: hidden;padding: 0;position: absolute;width: 1px;}#sk-container-id-3 div.sk-estimator {font-family: monospace;background-color: #f0f8ff;border: 1px dotted black;border-radius: 0.25em;box-sizing: border-box;margin-bottom: 0.5em;}#sk-container-id-3 div.sk-estimator:hover {background-color: #d4ebff;}#sk-container-id-3 div.sk-parallel-item::after {content: \"\";width: 100%;border-bottom: 1px solid gray;flex-grow: 1;}#sk-container-id-3 div.sk-label:hover label.sk-toggleable__label {background-color: #d4ebff;}#sk-container-id-3 div.sk-serial::before {content: \"\";position: absolute;border-left: 1px solid gray;box-sizing: border-box;top: 0;bottom: 0;left: 50%;z-index: 0;}#sk-container-id-3 div.sk-serial {display: flex;flex-direction: column;align-items: center;background-color: white;padding-right: 0.2em;padding-left: 0.2em;position: relative;}#sk-container-id-3 div.sk-item {position: relative;z-index: 1;}#sk-container-id-3 div.sk-parallel {display: flex;align-items: stretch;justify-content: center;background-color: white;position: relative;}#sk-container-id-3 div.sk-item::before, #sk-container-id-3 div.sk-parallel-item::before {content: \"\";position: absolute;border-left: 1px solid gray;box-sizing: border-box;top: 0;bottom: 0;left: 50%;z-index: -1;}#sk-container-id-3 div.sk-parallel-item {display: flex;flex-direction: column;z-index: 1;position: relative;background-color: white;}#sk-container-id-3 div.sk-parallel-item:first-child::after {align-self: flex-end;width: 50%;}#sk-container-id-3 div.sk-parallel-item:last-child::after {align-self: flex-start;width: 50%;}#sk-container-id-3 div.sk-parallel-item:only-child::after {width: 0;}#sk-container-id-3 div.sk-dashed-wrapped {border: 1px dashed gray;margin: 0 0.4em 0.5em 0.4em;box-sizing: border-box;padding-bottom: 0.4em;background-color: white;}#sk-container-id-3 div.sk-label label {font-family: monospace;font-weight: bold;display: inline-block;line-height: 1.2em;}#sk-container-id-3 div.sk-label-container {text-align: center;}#sk-container-id-3 div.sk-container {/* jupyter's `normalize.less` sets `[hidden] { display: none; }` but bootstrap.min.css set `[hidden] { display: none !important; }` so we also need the `!important` here to be able to override the default hidden behavior on the sphinx rendered scikit-learn.org. See: https://github.com/scikit-learn/scikit-learn/issues/21755 */display: inline-block !important;position: relative;}#sk-container-id-3 div.sk-text-repr-fallback {display: none;}</style><div id=\"sk-container-id-3\" class=\"sk-top-container\"><div class=\"sk-text-repr-fallback\"><pre>RandomizedSearchCV(cv=5, estimator=SVC(),\n",
       "                   param_distributions={&#x27;C&#x27;: &lt;scipy.stats._distn_infrastructure.rv_continuous_frozen object at 0x0000019E23434F90&gt;,\n",
       "                                        &#x27;gamma&#x27;: &lt;scipy.stats._distn_infrastructure.rv_continuous_frozen object at 0x0000019E2333EF90&gt;,\n",
       "                                        &#x27;kernel&#x27;: [&#x27;rbf&#x27;]},\n",
       "                   random_state=42)</pre><b>In a Jupyter environment, please rerun this cell to show the HTML representation or trust the notebook. <br />On GitHub, the HTML representation is unable to render, please try loading this page with nbviewer.org.</b></div><div class=\"sk-container\" hidden><div class=\"sk-item sk-dashed-wrapped\"><div class=\"sk-label-container\"><div class=\"sk-label sk-toggleable\"><input class=\"sk-toggleable__control sk-hidden--visually\" id=\"sk-estimator-id-5\" type=\"checkbox\" ><label for=\"sk-estimator-id-5\" class=\"sk-toggleable__label sk-toggleable__label-arrow\">RandomizedSearchCV</label><div class=\"sk-toggleable__content\"><pre>RandomizedSearchCV(cv=5, estimator=SVC(),\n",
       "                   param_distributions={&#x27;C&#x27;: &lt;scipy.stats._distn_infrastructure.rv_continuous_frozen object at 0x0000019E23434F90&gt;,\n",
       "                                        &#x27;gamma&#x27;: &lt;scipy.stats._distn_infrastructure.rv_continuous_frozen object at 0x0000019E2333EF90&gt;,\n",
       "                                        &#x27;kernel&#x27;: [&#x27;rbf&#x27;]},\n",
       "                   random_state=42)</pre></div></div></div><div class=\"sk-parallel\"><div class=\"sk-parallel-item\"><div class=\"sk-item\"><div class=\"sk-label-container\"><div class=\"sk-label sk-toggleable\"><input class=\"sk-toggleable__control sk-hidden--visually\" id=\"sk-estimator-id-6\" type=\"checkbox\" ><label for=\"sk-estimator-id-6\" class=\"sk-toggleable__label sk-toggleable__label-arrow\">estimator: SVC</label><div class=\"sk-toggleable__content\"><pre>SVC()</pre></div></div></div><div class=\"sk-serial\"><div class=\"sk-item\"><div class=\"sk-estimator sk-toggleable\"><input class=\"sk-toggleable__control sk-hidden--visually\" id=\"sk-estimator-id-7\" type=\"checkbox\" ><label for=\"sk-estimator-id-7\" class=\"sk-toggleable__label sk-toggleable__label-arrow\">SVC</label><div class=\"sk-toggleable__content\"><pre>SVC()</pre></div></div></div></div></div></div></div></div></div></div>"
      ],
      "text/plain": [
       "RandomizedSearchCV(cv=5, estimator=SVC(),\n",
       "                   param_distributions={'C': <scipy.stats._distn_infrastructure.rv_continuous_frozen object at 0x0000019E23434F90>,\n",
       "                                        'gamma': <scipy.stats._distn_infrastructure.rv_continuous_frozen object at 0x0000019E2333EF90>,\n",
       "                                        'kernel': ['rbf']},\n",
       "                   random_state=42)"
      ]
     },
     "execution_count": 30,
     "metadata": {},
     "output_type": "execute_result"
    }
   ],
   "source": [
    "# Step 5: Fit Randomized Search to Data\n",
    "random_search.fit(X_train_scaled, y_train)\n"
   ]
  },
  {
   "cell_type": "code",
   "execution_count": 31,
   "id": "49c116dc",
   "metadata": {},
   "outputs": [
    {
     "name": "stdout",
     "output_type": "stream",
     "text": [
      "Best parameters found:  {'C': 1.6601864044243653, 'gamma': 0.16599452033620266, 'kernel': 'rbf'}\n"
     ]
    }
   ],
   "source": [
    "# Step 6: Get Best Parameters\n",
    "print(\"Best parameters found: \", random_search.best_params_)\n"
   ]
  },
  {
   "cell_type": "code",
   "execution_count": 32,
   "id": "e1a595d3",
   "metadata": {},
   "outputs": [],
   "source": [
    "y_pred2 = random_search.predict(X_test_scaled)\n",
    "accuracy_random = accuracy_score(y_test, y_pred2)\n"
   ]
  },
  {
   "cell_type": "code",
   "execution_count": 33,
   "id": "7f035396",
   "metadata": {},
   "outputs": [
    {
     "name": "stdout",
     "output_type": "stream",
     "text": [
      "Accuracy: 0.9704732400384575\n",
      "Classification Report:\n",
      "                 precision    recall  f1-score   support\n",
      "\n",
      "          AUDIO       0.97      0.97      0.97     15037\n",
      "         CAMERA       0.95      0.98      0.96     16160\n",
      "HOME AUTOMATION       0.99      0.96      0.98     15608\n",
      "\n",
      "       accuracy                           0.97     46805\n",
      "      macro avg       0.97      0.97      0.97     46805\n",
      "   weighted avg       0.97      0.97      0.97     46805\n",
      "\n",
      "Confusion Matrix:\n",
      "[[14633   363    41]\n",
      " [  341 15761    58]\n",
      " [   89   490 15029]]\n"
     ]
    }
   ],
   "source": [
    "# Step 9: Evaluate the Model\n",
    "print(\"Accuracy:\", accuracy_random)\n",
    "print(\"Classification Report:\")\n",
    "print(classification_report(y_test, y_pred2))\n",
    "print(\"Confusion Matrix:\")\n",
    "print(confusion_matrix(y_test, y_pred2))\n"
   ]
  },
  {
   "cell_type": "markdown",
   "id": "566c5181",
   "metadata": {},
   "source": [
    "# Comparison (Grid Search and Random Search)"
   ]
  },
  {
   "cell_type": "code",
   "execution_count": 34,
   "id": "1ab4db42",
   "metadata": {},
   "outputs": [],
   "source": [
    "import matplotlib.pyplot as plt"
   ]
  },
  {
   "cell_type": "code",
   "execution_count": 36,
   "id": "e191c0ae",
   "metadata": {},
   "outputs": [],
   "source": [
    "# Accuracy scores\n",
    "accuracy_scores = [accuracy_grid, accuracy_random]\n",
    "search_methods = ['Grid Search', 'Randomized Search']"
   ]
  },
  {
   "cell_type": "code",
   "execution_count": 37,
   "id": "e4bb4e2f",
   "metadata": {},
   "outputs": [
    {
     "data": {
      "image/png": "[encoded data removed]",
      "text/plain": [
       "<Figure size 800x500 with 1 Axes>"
      ]
     },
     "metadata": {},
     "output_type": "display_data"
    }
   ],
   "source": [
    "# Plotting\n",
    "plt.figure(figsize=(8, 5))\n",
    "plt.bar(search_methods, accuracy_scores, color=['blue', 'green'])\n",
    "plt.xlabel('Search Method')\n",
    "plt.ylabel('Accuracy')\n",
    "plt.title('Comparison of Grid Search and Randomized Search')\n",
    "plt.ylim(0, 1)  # Set y-axis limits\n",
    "plt.show()"
   ]
  },
  {
   "cell_type": "code",
   "execution_count": null,
   "id": "36d2271e",
   "metadata": {},
   "outputs": [],
   "source": []
  }
 ],
 "metadata": {
  "kernelspec": {
   "display_name": "Python 3 (ipykernel)",
   "language": "python",
   "name": "python3"
  },
  "language_info": {
   "codemirror_mode": {
    "name": "ipython",
    "version": 3
   },
   "file_extension": ".py",
   "mimetype": "text/x-python",
   "name": "python",
   "nbconvert_exporter": "python",
   "pygments_lexer": "ipython3",
   "version": "3.9.13"
  }
 },
 "nbformat": 4,
 "nbformat_minor": 5
}
